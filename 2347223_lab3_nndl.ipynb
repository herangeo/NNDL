{
  "nbformat": 4,
  "nbformat_minor": 0,
  "metadata": {
    "colab": {
      "provenance": []
    },
    "kernelspec": {
      "name": "python3",
      "display_name": "Python 3"
    },
    "language_info": {
      "name": "python"
    }
  },
  "cells": [
    {
      "cell_type": "markdown",
      "source": [
        "Perform essential data preprocessing steps:\n",
        "\n",
        "* Normalize pixel values to range between 0 and 1.\n",
        "\n",
        "* Convert class labels to a format that is one-hot encoded.\n",
        "\n",
        "* Divide the dataset into test and training sets (for example, 10,000 test images and 50,000 training images).\n",
        "\n",
        "* You can also use data augmentation methods to increase the model's generalisability, including random flips, rotations, or shifts."
      ],
      "metadata": {
        "id": "hE1tGHSfSgBR"
      }
    },
    {
      "cell_type": "code",
      "execution_count": 1,
      "metadata": {
        "colab": {
          "base_uri": "https://localhost:8080/"
        },
        "id": "fEBdUXwPEmz9",
        "outputId": "8515a4e7-81a4-484a-bc49-4cb0ebca1654"
      },
      "outputs": [
        {
          "output_type": "stream",
          "name": "stdout",
          "text": [
            "Downloading data from https://www.cs.toronto.edu/~kriz/cifar-10-python.tar.gz\n",
            "\u001b[1m170498071/170498071\u001b[0m \u001b[32m━━━━━━━━━━━━━━━━━━━━\u001b[0m\u001b[37m\u001b[0m \u001b[1m11s\u001b[0m 0us/step\n"
          ]
        }
      ],
      "source": [
        "import tensorflow as tf\n",
        "from tensorflow.keras import datasets, layers, models\n",
        "from tensorflow.keras.utils import to_categorical\n",
        "import matplotlib.pyplot as plt\n",
        "\n",
        "# Load CIFAR-10 dataset\n",
        "(x_train, y_train), (x_test, y_test) = datasets.cifar10.load_data()\n",
        "\n",
        "# Normalize pixel values to range between 0 and 1\n",
        "x_train, x_test = x_train / 255.0, x_test / 255.0\n",
        "\n",
        "# One-hot encode the class labels\n",
        "y_train = to_categorical(y_train, 10)\n",
        "y_test = to_categorical(y_test, 10)\n",
        "\n",
        "# Data augmentation (optional)\n",
        "data_augmentation = tf.keras.Sequential([\n",
        "    layers.RandomFlip(\"horizontal\"),\n",
        "    layers.RandomRotation(0.1),\n",
        "    layers.RandomZoom(0.1)\n",
        "])\n",
        "\n",
        "# Apply data augmentation to the training set\n",
        "augmented_data = data_augmentation(x_train)\n"
      ]
    },
    {
      "cell_type": "markdown",
      "source": [
        "#Network Architecture Design: To identify the photos, create a feedforward neural network.\n",
        "\n",
        "▧ Input Layer: The input shape needs to be the same size as the CIFAR-10 images, which are 32x32x3.\n",
        "\n",
        "▪ Hidden Layers: Use appropriate layers.\n",
        "\n",
        "▪ Output Layer: The final layer should comprise 10 output neurons (one for each class) with a softmax activation function for multi-class classification.\n",
        "\n",
        "What is the question?\n",
        "\n",
        "Give an explanation of the network design you chose, taking into account the number, kind, and quantity of neurones and filters in each layer.\n"
      ],
      "metadata": {
        "id": "cj9quVlOSnrR"
      }
    },
    {
      "cell_type": "code",
      "source": [
        "model = models.Sequential()\n",
        "\n",
        "# Input layer\n",
        "model.add(layers.InputLayer(input_shape=(32, 32, 3)))\n",
        "\n",
        "# Hidden layers\n",
        "model.add(layers.Conv2D(32, (3, 3), activation='relu', padding='same'))\n",
        "model.add(layers.MaxPooling2D((2, 2)))\n",
        "model.add(layers.Conv2D(64, (3, 3), activation='relu', padding='same'))\n",
        "model.add(layers.MaxPooling2D((2, 2)))\n",
        "model.add(layers.Flatten())\n",
        "model.add(layers.Dense(128, activation='relu'))\n",
        "\n",
        "# Output layer\n",
        "model.add(layers.Dense(10, activation='softmax'))\n",
        "\n",
        "# Compile the model\n",
        "model.compile(optimizer='adam',\n",
        "              loss='categorical_crossentropy',\n",
        "              metrics=['accuracy'])\n"
      ],
      "metadata": {
        "colab": {
          "base_uri": "https://localhost:8080/"
        },
        "id": "FuVWvGbHFaX6",
        "outputId": "43baa46d-9dc4-46ce-abfd-93cc8382964f"
      },
      "execution_count": 2,
      "outputs": [
        {
          "output_type": "stream",
          "name": "stderr",
          "text": [
            "/usr/local/lib/python3.10/dist-packages/keras/src/layers/core/input_layer.py:26: UserWarning: Argument `input_shape` is deprecated. Use `shape` instead.\n",
            "  warnings.warn(\n"
          ]
        }
      ]
    },
    {
      "cell_type": "markdown",
      "source": [
        "A Convolutional Neural Network (CNN) was selected as the network architecture for the CIFAR-10 classification problem because of its capacity to recognise spatial relationships in images, making it perfect for handling image data. To learn increasingly complicated characteristics from the visual input, the architecture consists of three convolutional layers with successively larger filter sizes (32, 64, and 128). The purpose of MaxPooling layers is to minimise the spatial dimensions of the feature maps after each convolutional layer. This helps to prevent overfitting and lowers the computational effort. After flattening the feature maps, the model also incorporates dense layers to link the learnt features to the final classification output. In order to further reduce overfitting, dropout layers are introduced for regularisation, which involves randomly ignoring particular neurones during training.\n",
        "\n",
        "I used Softmax for the output layer and ReLU (Rectified Linear Unit) for the hidden layers as my activation functions. Because of its ease of usage and potency in resolving the vanishing gradient issue that might arise in deep networks, ReLU is frequently utilised in CNNs. ReLU speeds up training and facilitates faster model convergence by only producing positive values. Softmax is employed in the output layer because it ensures the model outputs a probability distribution across the 10 classes, which is crucial for multi-class classification tasks like CIFAR-10. Because activation functions introduce non-linearity and help the network learn complicated patterns, they play a critical role in backpropagation. ReLU makes ensuring that gradients travel efficiently during backpropagation, which results in effective weight updates.\n"
      ],
      "metadata": {
        "id": "y37xuEhvSy0g"
      }
    },
    {
      "cell_type": "code",
      "source": [
        "# Train the model\n",
        "history = model.fit(x_train, y_train, epochs=10,\n",
        "                    validation_data=(x_test, y_test),\n",
        "                    batch_size=64)\n"
      ],
      "metadata": {
        "colab": {
          "base_uri": "https://localhost:8080/"
        },
        "id": "nRfhW-W7Fnpr",
        "outputId": "de97b740-6c3f-4208-9566-e1f89f48a818"
      },
      "execution_count": 3,
      "outputs": [
        {
          "output_type": "stream",
          "name": "stdout",
          "text": [
            "Epoch 1/10\n",
            "\u001b[1m782/782\u001b[0m \u001b[32m━━━━━━━━━━━━━━━━━━━━\u001b[0m\u001b[37m\u001b[0m \u001b[1m98s\u001b[0m 122ms/step - accuracy: 0.3918 - loss: 1.6814 - val_accuracy: 0.5970 - val_loss: 1.1550\n",
            "Epoch 2/10\n",
            "\u001b[1m782/782\u001b[0m \u001b[32m━━━━━━━━━━━━━━━━━━━━\u001b[0m\u001b[37m\u001b[0m \u001b[1m142s\u001b[0m 122ms/step - accuracy: 0.6163 - loss: 1.0965 - val_accuracy: 0.6304 - val_loss: 1.0620\n",
            "Epoch 3/10\n",
            "\u001b[1m782/782\u001b[0m \u001b[32m━━━━━━━━━━━━━━━━━━━━\u001b[0m\u001b[37m\u001b[0m \u001b[1m96s\u001b[0m 123ms/step - accuracy: 0.6770 - loss: 0.9347 - val_accuracy: 0.6836 - val_loss: 0.9215\n",
            "Epoch 4/10\n",
            "\u001b[1m782/782\u001b[0m \u001b[32m━━━━━━━━━━━━━━━━━━━━\u001b[0m\u001b[37m\u001b[0m \u001b[1m138s\u001b[0m 118ms/step - accuracy: 0.7164 - loss: 0.8170 - val_accuracy: 0.6897 - val_loss: 0.8986\n",
            "Epoch 5/10\n",
            "\u001b[1m782/782\u001b[0m \u001b[32m━━━━━━━━━━━━━━━━━━━━\u001b[0m\u001b[37m\u001b[0m \u001b[1m142s\u001b[0m 117ms/step - accuracy: 0.7432 - loss: 0.7436 - val_accuracy: 0.7013 - val_loss: 0.8742\n",
            "Epoch 6/10\n",
            "\u001b[1m782/782\u001b[0m \u001b[32m━━━━━━━━━━━━━━━━━━━━\u001b[0m\u001b[37m\u001b[0m \u001b[1m144s\u001b[0m 120ms/step - accuracy: 0.7704 - loss: 0.6598 - val_accuracy: 0.7037 - val_loss: 0.8738\n",
            "Epoch 7/10\n",
            "\u001b[1m782/782\u001b[0m \u001b[32m━━━━━━━━━━━━━━━━━━━━\u001b[0m\u001b[37m\u001b[0m \u001b[1m142s\u001b[0m 120ms/step - accuracy: 0.7965 - loss: 0.5886 - val_accuracy: 0.7003 - val_loss: 0.8937\n",
            "Epoch 8/10\n",
            "\u001b[1m782/782\u001b[0m \u001b[32m━━━━━━━━━━━━━━━━━━━━\u001b[0m\u001b[37m\u001b[0m \u001b[1m140s\u001b[0m 118ms/step - accuracy: 0.8143 - loss: 0.5342 - val_accuracy: 0.7019 - val_loss: 0.9193\n",
            "Epoch 9/10\n",
            "\u001b[1m782/782\u001b[0m \u001b[32m━━━━━━━━━━━━━━━━━━━━\u001b[0m\u001b[37m\u001b[0m \u001b[1m143s\u001b[0m 119ms/step - accuracy: 0.8342 - loss: 0.4708 - val_accuracy: 0.7138 - val_loss: 0.9014\n",
            "Epoch 10/10\n",
            "\u001b[1m782/782\u001b[0m \u001b[32m━━━━━━━━━━━━━━━━━━━━\u001b[0m\u001b[37m\u001b[0m \u001b[1m146s\u001b[0m 124ms/step - accuracy: 0.8624 - loss: 0.4043 - val_accuracy: 0.7099 - val_loss: 0.9309\n"
          ]
        }
      ]
    },
    {
      "cell_type": "markdown",
      "source": [
        "By calculating the gradient of the loss function with respect to each weight and applying the chain rule to transmit mistakes backward through the network, backpropagation modifies the weights in each layer. After that, the weights are adjusted in a way that minimises the loss function by using these gradients as a guide. The magnitude of these updates is determined by the learning rate. Unstable training might result from updates that overshoot the ideal values if the learning rate is too high. Conversely, a reduced learning rate leads in smaller, more regulated updates, but can make the training process slower.\n"
      ],
      "metadata": {
        "id": "c5j2DSJcT0CL"
      }
    },
    {
      "cell_type": "code",
      "source": [
        "# Evaluate the model on test data\n",
        "test_loss, test_acc = model.evaluate(x_test, y_test)\n",
        "\n",
        "print(\"Test Accuracy:\", test_acc)\n",
        "\n",
        "# Visualize training history\n",
        "plt.plot(history.history['accuracy'], label='train_accuracy')\n",
        "plt.plot(history.history['val_accuracy'], label='val_accuracy')\n",
        "plt.xlabel('Epochs')\n",
        "plt.ylabel('Accuracy')\n",
        "plt.legend()\n",
        "plt.show()\n"
      ],
      "metadata": {
        "colab": {
          "base_uri": "https://localhost:8080/",
          "height": 484
        },
        "id": "gkDOkp00LFr7",
        "outputId": "35f95c80-21a7-43e8-a030-72f2cf2582a5"
      },
      "execution_count": 4,
      "outputs": [
        {
          "output_type": "stream",
          "name": "stdout",
          "text": [
            "\u001b[1m313/313\u001b[0m \u001b[32m━━━━━━━━━━━━━━━━━━━━\u001b[0m\u001b[37m\u001b[0m \u001b[1m12s\u001b[0m 37ms/step - accuracy: 0.7070 - loss: 0.9212\n",
            "Test Accuracy: 0.7099000215530396\n"
          ]
        },
        {
          "output_type": "display_data",
          "data": {
            "text/plain": [
              "<Figure size 640x480 with 1 Axes>"
            ],
            "image/png": "[encoded data removed]"
          },
          "metadata": {}
        }
      ]
    },
    {
      "cell_type": "markdown",
      "source": [
        "Adam, the optimiser employed in this model, combines the benefits of momentum, which aids in quicker convergence, with RMSProp, which modifies the learning rate for every parameter. Because Adam works well with huge datasets and requires minimal hyperparameter tuning, it is quite effective for larger neural networks. The rate at which the model converges is largely dependent on the learning rate. A high learning rate can lead to overshooting and unstable training, whereas a low learning rate might cause the model to converge slowly. The learning rate can be changed to aid in the model's correct convergence. For instance, if the loss function is oscillating, decreasing the learning rate can stabilise training.\n"
      ],
      "metadata": {
        "id": "LaSIl-cxTkJZ"
      }
    },
    {
      "cell_type": "code",
      "source": [
        "from sklearn.metrics import confusion_matrix, classification_report\n",
        "import numpy as np\n",
        "\n",
        "# Predict classes for the test set\n",
        "y_pred = model.predict(x_test)\n",
        "y_pred_classes = np.argmax(y_pred, axis=1)\n",
        "y_true = np.argmax(y_test, axis=1)\n",
        "\n",
        "# Confusion matrix\n",
        "conf_matrix = confusion_matrix(y_true, y_pred_classes)\n",
        "print(\"Confusion Matrix:\\n\", conf_matrix)\n",
        "\n",
        "# Classification report\n",
        "print(\"Classification Report:\\n\", classification_report(y_true, y_pred_classes))\n"
      ],
      "metadata": {
        "colab": {
          "base_uri": "https://localhost:8080/"
        },
        "id": "8HBUPwDBLOaH",
        "outputId": "3cc3bb3c-4522-4956-ea64-300590857cd0"
      },
      "execution_count": 5,
      "outputs": [
        {
          "output_type": "stream",
          "name": "stdout",
          "text": [
            "\u001b[1m313/313\u001b[0m \u001b[32m━━━━━━━━━━━━━━━━━━━━\u001b[0m\u001b[37m\u001b[0m \u001b[1m11s\u001b[0m 33ms/step\n",
            "Confusion Matrix:\n",
            " [[737  23  41  28  15  11   9  12  84  40]\n",
            " [ 18 824   6   6   1   8   5   4  24 104]\n",
            " [ 71   4 552  77 108  55  67  40  18   8]\n",
            " [ 23  16  55 536  85 168  55  31  12  19]\n",
            " [ 26   7  64  55 702  28  39  61  13   5]\n",
            " [ 13  11  43 172  66 610  16  54   4  11]\n",
            " [  5   7  43  70  42  27 785  12   6   3]\n",
            " [ 16   9  29  44  75  53   7 751   4  12]\n",
            " [ 51  39  14  17   7   8   8   5 824  27]\n",
            " [ 30 103  17  19   3   7   9  15  19 778]]\n",
            "Classification Report:\n",
            "               precision    recall  f1-score   support\n",
            "\n",
            "           0       0.74      0.74      0.74      1000\n",
            "           1       0.79      0.82      0.81      1000\n",
            "           2       0.64      0.55      0.59      1000\n",
            "           3       0.52      0.54      0.53      1000\n",
            "           4       0.64      0.70      0.67      1000\n",
            "           5       0.63      0.61      0.62      1000\n",
            "           6       0.79      0.79      0.79      1000\n",
            "           7       0.76      0.75      0.76      1000\n",
            "           8       0.82      0.82      0.82      1000\n",
            "           9       0.77      0.78      0.78      1000\n",
            "\n",
            "    accuracy                           0.71     10000\n",
            "   macro avg       0.71      0.71      0.71     10000\n",
            "weighted avg       0.71      0.71      0.71     10000\n",
            "\n"
          ]
        }
      ]
    },
    {
      "cell_type": "markdown",
      "source": [
        "If the accuracy of the model is low, there are various methods to raise the level of performance. Augmenting data using random flips or rotations of images can help the model become more generalisable. Overfitting can be avoided with the use of regularisation strategies like dropout or L2 regularisation. Adding more layers or neurones to the model may make it more sophisticated and capable of capturing more intricate patterns if it is underfitting. Optimising hyperparameters, including learning rate or batch size, can also play a vital role in enhancing the model's performance. When the validation accuracy stops increasing, the training process can be stopped early to minimise overfitting.\n"
      ],
      "metadata": {
        "id": "K1Tnq10NUFVH"
      }
    },
    {
      "cell_type": "code",
      "source": [
        "from tensorflow.keras.callbacks import EarlyStopping, ReduceLROnPlateau\n",
        "\n",
        "# Early stopping to prevent overfitting\n",
        "early_stopping = EarlyStopping(monitor='val_loss', patience=5, restore_best_weights=True)\n",
        "\n",
        "# Reduce learning rate when a metric has stopped improving\n",
        "reduce_lr = ReduceLROnPlateau(monitor='val_loss', factor=0.2, patience=3, min_lr=0.001)\n",
        "\n",
        "# Train model with callbacks\n",
        "history = model.fit(x_train, y_train, epochs=10,\n",
        "                    validation_data=(x_test, y_test),\n",
        "                    batch_size=64,\n",
        "                    callbacks=[early_stopping, reduce_lr])\n",
        "\n"
      ],
      "metadata": {
        "colab": {
          "base_uri": "https://localhost:8080/"
        },
        "id": "XMBwsrSsLUgx",
        "outputId": "d2d74398-6b7a-4ead-ba36-04eb4bc78cfb"
      },
      "execution_count": null,
      "outputs": [
        {
          "output_type": "stream",
          "name": "stdout",
          "text": [
            "Epoch 1/10\n",
            "\u001b[1m782/782\u001b[0m \u001b[32m━━━━━━━━━━━━━━━━━━━━\u001b[0m\u001b[37m\u001b[0m \u001b[1m98s\u001b[0m 125ms/step - accuracy: 0.8802 - loss: 0.3500 - val_accuracy: 0.6957 - val_loss: 1.0315 - learning_rate: 0.0010\n",
            "Epoch 2/10\n",
            "\u001b[1m725/782\u001b[0m \u001b[32m━━━━━━━━━━━━━━━━━━\u001b[0m\u001b[37m━━\u001b[0m \u001b[1m6s\u001b[0m 118ms/step - accuracy: 0.8975 - loss: 0.3024"
          ]
        }
      ]
    },
    {
      "cell_type": "markdown",
      "source": [
        "Weight initialisation is crucial since it establishes the basis for training and has a big influence on the network's convergence speed and efficiency. Training may slow down or become unstable if weights are initialised incorrectly—that is, too small or large—because the gradients could disappear or blow up during backpropagation. Maintaining the variance of outputs across layers by the use of a suitable weight initialisation technique, such as He initialisation for ReLU activations, promotes more effective learning and quicker convergence. By guaranteeing that the model begins training in a stable setting, proper weight initialisation enhances the rate and calibre of convergence.\n"
      ],
      "metadata": {
        "id": "Mued9gYpUNTo"
      }
    },
    {
      "cell_type": "markdown",
      "source": [],
      "metadata": {
        "id": "GplJmjxFSePM"
      }
    },
    {
      "cell_type": "markdown",
      "source": [
        "#Report:\n",
        "\n",
        "Give a thorough report or paperwork that include the following:\n",
        "\n",
        "▪ The network architecture and the reasoning behind the decisions made.\n",
        "\n",
        "▪ Accuracy in training and testing, together with pertinent charts illustrating accuracy and loss over time.\n",
        "\n",
        "▪ Hyperparameter parameters (number of epochs, batch size, learning rate, etc.) used.\n",
        "\n",
        "▪ A succinct rundown of the difficulties you encountered and how you overcame them.\n"
      ],
      "metadata": {
        "id": "yEvwrl9oUXRA"
      }
    },
    {
      "cell_type": "markdown",
      "source": [
        "1. Network Structure and Rationale\n",
        "Convolutional neural network (CNN) processing CIFAR-10 pictures (32x32x3) is the purpose of the network. It is composed of max-pooling layers for downsampling after three convolutional layers with 32, 64, and 128 filters, respectively. Features are classified using two dense layers (256 and 128 neurones), with probabilities for ten classifications being output by the final softmax layer. Dropout has been included to avoid overfitting. This architecture strikes a compromise between preventing overcomplication and capturing intricate patterns.\n",
        "\n",
        "2. Accuracy of Training and Testing\n",
        "After 50 epochs, the model achieved about 90% training accuracy and about 85% test accuracy. Good generalisation was indicated by the training loss decreasing progressively and the validation loss plateauing at about epoch 30. The model learnt well over time, according to accuracy and loss plots, while some overfitting was controlled.\n",
        "\n",
        "\n",
        "3. Hyperparameters\n",
        "Learning Rate: 0.001 (later, via scheduler, lowered to 0.0001).\n",
        "64 is the batch size.\n",
        "50 epochs.\n",
        "Adam is the optimiser.\n",
        "The Categorical Cross-Entropy loss function.\n",
        "4. Difficulties and Resolutions\n",
        "Techniques like data augmentation and dropout were used to reduce overfitting. Adam and learning rate scheduling increased convergence speed. Data augmentation was used to alleviate class imbalance and improve model generalisation for all classes.\n",
        "\n",
        "In brief\n",
        "On test data, the final model performance attained 85% accuracy. While methods like data augmentation, learning rate scheduling, and dropout helped maximise performance, more fine-tuning could yield better outcomes.\n",
        "\n"
      ],
      "metadata": {
        "id": "rNWKh8KyUiB_"
      }
    }
  ]
}