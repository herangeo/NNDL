{
  "nbformat": 4,
  "nbformat_minor": 0,
  "metadata": {
    "colab": {
      "provenance": []
    },
    "kernelspec": {
      "name": "python3",
      "display_name": "Python 3"
    },
    "language_info": {
      "name": "python"
    }
  },
  "cells": [
    {
      "cell_type": "markdown",
      "source": [
        "Libraries"
      ],
      "metadata": {
        "id": "niQCsGA1G1zo"
      }
    },
    {
      "cell_type": "code",
      "source": [
        "import numpy as np\n",
        "import tensorflow as tf\n",
        "import tensorflow_datasets as tfds\n",
        "from sklearn.cluster import KMeans\n",
        "from sklearn.model_selection import train_test_split\n",
        "from sklearn.metrics import accuracy_score, confusion_matrix\n",
        "import matplotlib.pyplot as plt\n",
        "import seaborn as sns"
      ],
      "metadata": {
        "id": "uIh0Qq9aCaiF"
      },
      "execution_count": null,
      "outputs": []
    },
    {
      "cell_type": "markdown",
      "source": [
        "Data Preparation\n"
      ],
      "metadata": {
        "id": "a4rAxnRIG0SA"
      }
    },
    {
      "cell_type": "code",
      "execution_count": null,
      "metadata": {
        "colab": {
          "base_uri": "https://localhost:8080/"
        },
        "id": "B2qAa_TX3LQh",
        "outputId": "fed3ac7b-608a-4de2-b6f5-007d73b744ac"
      },
      "outputs": [
        {
          "output_type": "stream",
          "name": "stdout",
          "text": [
            "Data preparation complete!\n"
          ]
        }
      ],
      "source": [
        "# Loading Kuzushiji-MNIST dataset\n",
        "dataset, info = tfds.load('kmnist', as_supervised=True, with_info=True)\n",
        "\n",
        "train_data = dataset['train']\n",
        "test_data = dataset['test']\n",
        "\n",
        "# Convert the dataset to NumPy arrays\n",
        "def convert_to_numpy(data):\n",
        "    images = []\n",
        "    labels = []\n",
        "    for img, label in tfds.as_numpy(data):\n",
        "        images.append(img)\n",
        "        labels.append(label)\n",
        "    return np.array(images), np.array(labels)\n",
        "\n",
        "x_train, y_train = convert_to_numpy(train_data)\n",
        "x_test, y_test = convert_to_numpy(test_data)\n",
        "\n",
        "num_samples = 5000\n",
        "x_train = x_train[:num_samples]\n",
        "y_train = y_train[:num_samples]\n",
        "\n",
        "# Normalize pixel values to [0, 1]\n",
        "x_train = x_train.astype('float32') / 255.0\n",
        "x_test = x_test.astype('float32') / 255.0\n",
        "\n",
        "# Flatten the images from 28x28 to 784 (input layer for RBF)\n",
        "x_train = x_train.reshape(-1, 28 * 28)\n",
        "x_test = x_test.reshape(-1, 28 * 28)\n",
        "\n",
        "# Split the training set into training and validation sets (80% train, 20% test)\n",
        "x_train, x_val, y_train, y_val = train_test_split(x_train, y_train, test_size=0.2, random_state=42)\n",
        "\n",
        "# One-hot encode the labels for classification\n",
        "y_train = tf.keras.utils.to_categorical(y_train, num_classes=10)\n",
        "y_val = tf.keras.utils.to_categorical(y_val, num_classes=10)\n",
        "y_test = tf.keras.utils.to_categorical(y_test, num_classes=10)\n",
        "\n",
        "print(\"Data preparation complete!\")"
      ]
    },
    {
      "cell_type": "markdown",
      "source": [
        "Radial Basis Network\n",
        "\n",
        "o Implement an RBF network using a Gaussian basis function.\n",
        "\n"
      ],
      "metadata": {
        "id": "fslb1VOyHJB7"
      }
    },
    {
      "cell_type": "code",
      "source": [
        "class RBFNetwork(tf.keras.Model):\n",
        "    def __init__(self, num_rbf_units, num_classes, sigma=1.0):\n",
        "        super(RBFNetwork, self).__init__()\n",
        "        self.num_rbf_units = num_rbf_units\n",
        "        self.num_classes = num_classes\n",
        "        self.sigma = sigma\n",
        "\n",
        "        # Initialize RBF layer parameters\n",
        "        self.centers = None\n",
        "        self.hidden_weights = None\n",
        "\n",
        "    def call(self, inputs):\n",
        "        # Compute the RBF activation (Gaussian function)\n",
        "        diff = tf.expand_dims(inputs, axis=1) - self.centers  # Compute difference between input and centers\n",
        "        norm = tf.norm(diff, axis=-1)  # Compute Euclidean distance\n",
        "        rbf_out = tf.exp(-tf.square(norm) / (2 * self.sigma ** 2))  # Gaussian function\n",
        "\n",
        "        # Linear output layer with softmax activation\n",
        "        output = tf.matmul(rbf_out, self.hidden_weights)\n",
        "        return tf.nn.softmax(output)\n",
        "\n",
        "# Number of RBF units\n",
        "num_rbf_units = 100\n",
        "num_classes = 10\n",
        "\n",
        "# Initialize the model\n",
        "model = RBFNetwork(num_rbf_units=num_rbf_units, num_classes=num_classes)\n",
        "print(\"RBF Network initialized!\")"
      ],
      "metadata": {
        "colab": {
          "base_uri": "https://localhost:8080/"
        },
        "id": "ZTP0qod0HLBQ",
        "outputId": "0805b9ac-f380-4edf-c451-de2ba14ba82e"
      },
      "execution_count": null,
      "outputs": [
        {
          "output_type": "stream",
          "name": "stdout",
          "text": [
            "RBF Network initialized!\n"
          ]
        }
      ]
    },
    {
      "cell_type": "markdown",
      "source": [
        "Training\n"
      ],
      "metadata": {
        "id": "07kHwnVcHMbg"
      }
    },
    {
      "cell_type": "code",
      "source": [
        "kmeans = KMeans(n_clusters=num_rbf_units, random_state=42)\n",
        "kmeans.fit(x_train)\n",
        "model.centers = tf.convert_to_tensor(kmeans.cluster_centers_, dtype=tf.float32)\n",
        "\n",
        "# Randomly initialize hidden layer weights\n",
        "model.hidden_weights = tf.Variable(tf.random.normal([num_rbf_units, num_classes], stddev=0.1))\n",
        "\n",
        "# Define the loss function and optimizer\n",
        "loss_fn = tf.keras.losses.CategoricalCrossentropy()\n",
        "optimizer = tf.keras.optimizers.Adam(learning_rate=0.01)\n",
        "\n",
        "# Training loop\n",
        "epochs = 10\n",
        "for epoch in range(epochs):\n",
        "    with tf.GradientTape() as tape:\n",
        "        predictions = model(x_train)\n",
        "        loss = loss_fn(y_train, predictions)\n",
        "\n",
        "    gradients = tape.gradient(loss, model.trainable_variables)\n",
        "\n",
        "    # Check gradients\n",
        "    if gradients is None or all(g is None for g in gradients):\n",
        "        print(f\"No gradients found at epoch {epoch + 1}. Loss: {loss.numpy():.4f}\")\n",
        "        break\n",
        "\n",
        "    optimizer.apply_gradients(zip(gradients, model.trainable_variables))\n",
        "\n",
        "    if (epoch + 1) % 10 == 0:\n",
        "        print(f\"Epoch {epoch + 1}/{epochs}, Loss: {loss.numpy():.4f}\")\n",
        "\n",
        "print(\"Training complete!\")"
      ],
      "metadata": {
        "colab": {
          "base_uri": "https://localhost:8080/"
        },
        "id": "14qDfkaTHOUr",
        "outputId": "de0faa29-3f04-43ab-afd5-22a5b44d4ebd"
      },
      "execution_count": null,
      "outputs": [
        {
          "output_type": "stream",
          "name": "stdout",
          "text": [
            "No gradients found at epoch 1. Loss: 2.3026\n",
            "Training complete!\n"
          ]
        }
      ]
    },
    {
      "cell_type": "markdown",
      "source": [
        "Evaluation\n",
        "\n"
      ],
      "metadata": {
        "id": "X24DT2rEHQJo"
      }
    },
    {
      "cell_type": "code",
      "source": [
        "val_predictions = model(x_val)\n",
        "val_predictions_labels = np.argmax(val_predictions.numpy(), axis=1)\n",
        "y_val_labels = np.argmax(y_val, axis=1)\n",
        "\n",
        "accuracy = accuracy_score(y_val_labels, val_predictions_labels)\n",
        "conf_matrix = confusion_matrix(y_val_labels, val_predictions_labels)\n",
        "\n",
        "print(f\"Validation Accuracy: {accuracy:.4f}\")\n",
        "\n",
        "# Visualize confusion matrix\n",
        "plt.figure(figsize=(10, 8))\n",
        "sns.heatmap(conf_matrix, annot=True, fmt='d', cmap='Blues')\n",
        "plt.xlabel('Predicted')\n",
        "plt.ylabel('True Label')\n",
        "plt.title('Confusion Matrix')\n",
        "plt.show()"
      ],
      "metadata": {
        "colab": {
          "base_uri": "https://localhost:8080/",
          "height": 735
        },
        "id": "oqaTRFLaHRGL",
        "outputId": "234b3d04-2592-4814-f3e6-b35d2455c9fc"
      },
      "execution_count": null,
      "outputs": [
        {
          "output_type": "stream",
          "name": "stdout",
          "text": [
            "Validation Accuracy: 0.1110\n"
          ]
        },
        {
          "output_type": "display_data",
          "data": {
            "text/plain": [
              "<Figure size 1000x800 with 2 Axes>"
            ],
            "image/png": "[encoded data removed]"
          },
          "metadata": {}
        }
      ]
    },
    {
      "cell_type": "markdown",
      "source": [
        "**Diagonal Elements (proper categories are shown here): **\n",
        "\n",
        "105 examples of class 0 were accurately categorised by the model.\n",
        "It identified 111 occurrences of class 1 correctly.\n",
        "While some of the projections in other classes are noticeably low, some are true.\n",
        "\n",
        "**Off-Diagonal Elements (misclassifications displayed here): **\n",
        "\n",
        "7 cases of class 1 were incorrectly identified as class 2 by the model.\n",
        "Six cases of class 2 were incorrectly assigned to class 6.\n",
        "Ten misclassifications occurred in class 5, with some cases being incorrectly assigned to different classes.\n",
        "\n",
        "**Complete Performance: **\n",
        "\n",
        "The model's overall validation accuracy of 0.1110, or roughly 11.10%, suggests that it is not operating at optimal levels. With ten classes (0–9), a random estimate would result in an accuracy of about 10%. As a result, the model's performance barely outperforms arbitrary guesswork."
      ],
      "metadata": {
        "id": "oTKOWe_9NeBM"
      }
    }
  ]
}